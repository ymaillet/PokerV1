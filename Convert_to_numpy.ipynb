{
 "cells": [
  {
   "cell_type": "code",
   "execution_count": 2,
   "metadata": {},
   "outputs": [],
   "source": [
    "import numpy as np\n",
    "from pypokerengine.utils.card_utils import estimate_hole_card_win_rate, gen_cards\n",
    "from tempfile import TemporaryFile\n",
    "from pathlib import Path"
   ]
  },
  {
   "cell_type": "code",
   "execution_count": 2,
   "metadata": {},
   "outputs": [],
   "source": [
    "translate_color = {\"h\" : \"H\", \"s\" : \"S\", \"d\" : \"D\", \"c\" : \"C\"}\n",
    "translate_position_3J = {\"button\" : [1,0,0], \"small\" : [0,1,0], \"big\" : [0,0,1] }\n",
    "translate_position_2J = {\"small\" : [1,0], \"big\" : [0,1] }\n",
    "translate_decision = {\"F\" : '0', \"C\" : '1', \"R\" : '2', 'A' : '3'}\n",
    "\n",
    "def convert_card(card):\n",
    "    card_value = card[0][0]\n",
    "    card_color = translate_color[card[0][1]]\n",
    "    card = str(card_color) + str(card_value)\n",
    "    return card\n"
   ]
  },
  {
   "cell_type": "markdown",
   "metadata": {},
   "source": [
    "Get the brut data :\n"
   ]
  },
  {
   "cell_type": "code",
   "execution_count": 3,
   "metadata": {},
   "outputs": [],
   "source": [
    "preflop2_raw = np.load('preflop2_raw.npy')\n",
    "preflop3_raw = np.load('preflop3_raw.npy')\n",
    "flop2_raw = np.load('flop2_raw.npy')\n",
    "flop3_raw = np.load('flop3_raw.npy')\n",
    "turn2_raw = np.load('turn2_raw.npy')\n",
    "turn3_raw = np.load('turn3_raw.npy')\n",
    "river2_raw = np.load('river2_raw.npy')\n",
    "river3_raw = np.load('river3_raw.npy')"
   ]
  },
  {
   "cell_type": "code",
   "execution_count": 7,
   "metadata": {},
   "outputs": [
    {
     "name": "stdout",
     "output_type": "stream",
     "text": [
      "[list(['#984070839664115713', '20']) 'Tc' '2s' 'big' 30.0 550 65 30.0 15.0\n",
      " 60.0 'C' 0]\n"
     ]
    }
   ],
   "source": [
    "def transform_preflop2(preflop2):\n",
    "    file = Path(\"preflop2.npy\")\n",
    "    if file.is_file():\n",
    "        hands = np.load(\"preflop2.npy\")\n",
    "    else:\n",
    "        hands = np.zeros((1,11), dtype = np.float)[1:,:]\n",
    "    i = 0\n",
    "    for sample in preflop2:\n",
    "        i = i+1\n",
    "        if i==5:\n",
    "            print(sample)\n",
    "            break\n",
    "        position = translate_position_2J[str(sample[3])]\n",
    "        decision = float(translate_decision[str(sample[10])])\n",
    "        \n",
    "        my_cards = gen_cards([convert_card([sample[1]]), convert_card([sample[2]])])\n",
    "        community_cards = gen_cards([])\n",
    "        power_hand = estimate_hole_card_win_rate(nb_simulation=1000,\n",
    "                    nb_player=2, hole_card=my_cards, community_card=community_cards)\n",
    "        \n",
    "        hand = np.array([power_hand, position[0], position[1], sample[4],sample[5],sample[6],\n",
    "                         sample[7],sample[8],sample[9], decision, sample[11]], dtype = np.float).reshape((1,11))\n",
    "        hands = np.append(hands, hand, axis=0)\n",
    "    return hands\n",
    "    \n",
    "\n",
    "preflop2_numpy = transform_preflop2(preflop2_raw)\n",
    "\n",
    "np.save(\"preflop2.npy\", preflop2_numpy)\n"
   ]
  },
  {
   "cell_type": "code",
   "execution_count": 5,
   "metadata": {},
   "outputs": [],
   "source": [
    "def transform_preflop3(preflop3):\n",
    "    file = Path(\"preflop3.npy\")\n",
    "    if file.is_file():\n",
    "        hands = np.load(\"preflop3.npy\")\n",
    "    else:\n",
    "        hands = np.zeros((1,14), dtype = np.float)[1:,:]\n",
    "        \n",
    "    for sample in preflop3:\n",
    "        position = translate_position_3J[str(sample[3])]\n",
    "        decision = float(translate_decision[str(sample[12])])\n",
    "        \n",
    "        my_cards = gen_cards([convert_card([sample[1]]), convert_card([sample[2]])])\n",
    "        community_cards = gen_cards([])\n",
    "        power_hand = estimate_hole_card_win_rate(nb_simulation=1000,\n",
    "                    nb_player=3, hole_card=my_cards, community_card=community_cards)\n",
    "        \n",
    "        hand = np.array([power_hand, position[0], position[1], position[2], sample[4],\n",
    "                sample[5],sample[6],sample[7],sample[8],sample[9],\n",
    "                sample[10],sample[11], decision, sample[13]]).reshape((1,14))\n",
    "        hands = np.append(hands, hand, axis=0)\n",
    "    return hands\n",
    "    \n",
    "\n",
    "preflop3_numpy =transform_preflop3(preflop3_raw)\n",
    "\n",
    "    \n",
    "np.save(\"preflop3.npy\", preflop3_numpy)\n"
   ]
  },
  {
   "cell_type": "code",
   "execution_count": 11,
   "metadata": {},
   "outputs": [
    {
     "name": "stdout",
     "output_type": "stream",
     "text": [
      "[list(['#1013202142544003073', '8']) 'Js' '2c' 'small' 'Th' 'Jd' '8c' 30.0\n",
      " 410 730 45 90 255.0 'C' 0]\n"
     ]
    }
   ],
   "source": [
    "def transform_flop2(flop2):\n",
    "    file = Path(\"flop2.npy\")\n",
    "    if file.is_file():\n",
    "        hands = np.load(\"flop2.npy\")\n",
    "    else:\n",
    "        hands = np.zeros((1,11), dtype = np.float)[1:,:]\n",
    "    for sample in flop2:\n",
    "        position = translate_position_2J[str(sample[3])]\n",
    "        decision = float(translate_decision[str(sample[13])])\n",
    "        \n",
    "        my_cards = gen_cards([convert_card([sample[1]]), convert_card([sample[2]])])\n",
    "        community_cards = gen_cards([convert_card([sample[4]]), convert_card([sample[5]]), convert_card([sample[6]])])\n",
    "        power_hand = estimate_hole_card_win_rate(nb_simulation=1000,\n",
    "                    nb_player=2, hole_card=my_cards, community_card=community_cards)\n",
    "        \n",
    "        hand = np.array([power_hand, position[0], position[1], sample[7],\n",
    "                sample[8],sample[9],sample[10],sample[11],sample[12], decision, sample[14]]).reshape((1,11))\n",
    "        hands = np.append(hands, hand, axis=0)\n",
    "    return hands\n",
    "    \n",
    "\n",
    "flop2_numpy = transform_flop2(flop2_raw)\n",
    "\n",
    "np.save(\"flop2.npy\", flop2_numpy)\n"
   ]
  },
  {
   "cell_type": "code",
   "execution_count": 7,
   "metadata": {},
   "outputs": [],
   "source": [
    "def transform_flop3(flop3):\n",
    "    file = Path(\"flop3.npy\")\n",
    "    if file.is_file():\n",
    "        hands = np.load(\"flop3.npy\")\n",
    "    else:\n",
    "        hands = np.zeros((1,14), dtype = np.float)[1:,:]\n",
    "    for sample in flop3:\n",
    "        position = translate_position_3J[str(sample[3])]\n",
    "        decision = float(translate_decision[str(sample[15])])\n",
    "        \n",
    "        my_cards = gen_cards([convert_card([sample[1]]), convert_card([sample[2]])])\n",
    "        community_cards = gen_cards([convert_card([sample[4]]), convert_card([sample[5]]), convert_card([sample[6]])])\n",
    "        power_hand = estimate_hole_card_win_rate(nb_simulation=1000,\n",
    "                    nb_player=2, hole_card=my_cards, community_card=community_cards)\n",
    "        \n",
    "        hand = np.array([power_hand, position[0], position[1], position[2], sample[7],\n",
    "                sample[8],sample[9],sample[10],sample[11],sample[12],\n",
    "                         sample[13],sample[14], decision, sample[16]]).reshape((1,14))\n",
    "        hands = np.append(hands, hand, axis=0)\n",
    "    return hands\n",
    "    \n",
    "\n",
    "\n",
    "flop3_numpy = transform_flop3(flop3_raw)\n",
    "\n",
    "    \n",
    "np.save(\"flop3.npy\", flop3_numpy)\n"
   ]
  },
  {
   "cell_type": "code",
   "execution_count": 4,
   "metadata": {},
   "outputs": [],
   "source": [
    "def transform_turn2(turn2):\n",
    "    file = Path(\"turn2.npy\")\n",
    "    if file.is_file():\n",
    "        hands = np.load(\"turn2.npy\")\n",
    "    else:\n",
    "        hands = np.zeros((1,11), dtype = np.float)[1:,:]\n",
    "    for sample in turn2:\n",
    "        position = translate_position_2J[str(sample[3])]\n",
    "        decision = float(translate_decision[str(sample[14])])\n",
    "        \n",
    "        my_cards = gen_cards([convert_card([sample[1]]), convert_card([sample[2]])])\n",
    "        community_cards = gen_cards([convert_card([sample[4]]), convert_card([sample[5]]),\n",
    "                                     convert_card([sample[6]]), convert_card([sample[7]])])\n",
    "        power_hand = estimate_hole_card_win_rate(nb_simulation=1000,\n",
    "                    nb_player=2, hole_card=my_cards, community_card=community_cards)\n",
    "        \n",
    "        hand = np.array([power_hand, position[0], position[1], sample[8],sample[9],\n",
    "                sample[10],sample[11],sample[12], sample[13], decision, sample[15]]).reshape((1,11))\n",
    "        hands = np.append(hands, hand, axis=0)\n",
    "    return hands\n",
    "    \n",
    "\n",
    "turn2_numpy = transform_turn2(turn2_raw)\n",
    "\n",
    "np.save(\"turn2.npy\", turn2_numpy)\n"
   ]
  },
  {
   "cell_type": "code",
   "execution_count": 5,
   "metadata": {},
   "outputs": [],
   "source": [
    "def transform_turn3(turn3):\n",
    "    file = Path(\"turn3.npy\")\n",
    "    if file.is_file():\n",
    "        hands = np.load(\"turn3.npy\")\n",
    "    else:\n",
    "        hands = np.zeros((1,14), dtype = np.float)[1:,:]\n",
    "    for sample in turn3:\n",
    "        position = translate_position_3J[str(sample[3])]\n",
    "        decision = float(translate_decision[str(sample[16])])\n",
    "        \n",
    "        my_cards = gen_cards([convert_card([sample[1]]), convert_card([sample[2]])])\n",
    "        community_cards = gen_cards([convert_card([sample[4]]), convert_card([sample[5]]),\n",
    "                                     convert_card([sample[6]]), convert_card([sample[7]])])\n",
    "        power_hand = estimate_hole_card_win_rate(nb_simulation=1000,\n",
    "                    nb_player=2, hole_card=my_cards, community_card=community_cards)\n",
    "        \n",
    "        hand = np.array([power_hand, position[0], position[1], position[2], sample[8],sample[9],\n",
    "                sample[10],sample[11],sample[12], sample[13],\n",
    "                sample[14],sample[15], decision, sample[17]]).reshape((1,14))\n",
    "        hands = np.append(hands, hand, axis=0)\n",
    "    return hands\n",
    "    \n",
    "\n",
    "turn3_numpy = transform_turn3(turn3_raw)\n",
    "\n",
    "    \n",
    "np.save(\"turn3.npy\", turn3_numpy)\n"
   ]
  },
  {
   "cell_type": "code",
   "execution_count": 6,
   "metadata": {},
   "outputs": [],
   "source": [
    "def transform_river2(river2):\n",
    "    file = Path(\"river2.npy\")\n",
    "    if file.is_file():\n",
    "        hands = np.load(\"river2.npy\")\n",
    "    else:\n",
    "        hands = np.zeros((1,11), dtype = np.float)[1:,:]\n",
    "    for sample in river2:\n",
    "        position = translate_position_2J[str(sample[3])]\n",
    "        decision = float(translate_decision[str(sample[15])])\n",
    "        \n",
    "        my_cards = gen_cards([convert_card([sample[1]]), convert_card([sample[2]])])\n",
    "        community_cards = gen_cards([convert_card([sample[4]]), convert_card([sample[5]]), convert_card([sample[6]]),\n",
    "                                     convert_card([sample[7]]), convert_card([sample[8]])])\n",
    "        power_hand = estimate_hole_card_win_rate(nb_simulation=1000,\n",
    "                    nb_player=2, hole_card=my_cards, community_card=community_cards)\n",
    "        \n",
    "        hand = np.array([power_hand, position[0], position[1], sample[9],sample[10],\n",
    "                sample[11],sample[12], sample[13], sample[14],\n",
    "                decision, sample[16]]).reshape((1,11))\n",
    "        hands = np.append(hands, hand, axis=0)\n",
    "    return hands\n",
    "\n",
    "\n",
    "\n",
    "river2_numpy = transform_river2(river2_raw)\n",
    "\n",
    "np.save(\"river2.npy\", river2_numpy)\n"
   ]
  },
  {
   "cell_type": "code",
   "execution_count": 7,
   "metadata": {},
   "outputs": [],
   "source": [
    "def transform_river3(river3):\n",
    "    file = Path(\"river3.npy\")\n",
    "    if file.is_file():\n",
    "        hands = np.load(\"river3.npy\")\n",
    "    else:\n",
    "        hands = np.zeros((1,14), dtype = np.float)[1:,:]\n",
    "    for sample in river3:\n",
    "        position = translate_position_3J[str(sample[3])]\n",
    "        decision = float(translate_decision[str(sample[17])])\n",
    "        \n",
    "        my_cards = gen_cards([convert_card([sample[1]]), convert_card([sample[2]])])\n",
    "        community_cards = gen_cards([convert_card([sample[4]]), convert_card([sample[5]]), convert_card([sample[6]]),\n",
    "                                     convert_card([sample[7]]), convert_card([sample[8]])])\n",
    "        power_hand = estimate_hole_card_win_rate(nb_simulation=1000,\n",
    "                    nb_player=2, hole_card=my_cards, community_card=community_cards)\n",
    "        \n",
    "        hand = np.array([power_hand, position[0], position[1], position[2], sample[9], sample[10], \n",
    "                sample[11],sample[12], sample[13],sample[14],sample[15],\n",
    "                sample[16],decision, sample[18]]).reshape((1,14))\n",
    "        hands = np.append(hands, hand, axis=0)\n",
    "    return hands\n",
    "    \n",
    "\n",
    "river3_numpy = transform_river3(river3_raw)\n",
    "    \n",
    "np.save(\"river3.npy\", river3_numpy)\n"
   ]
  },
  {
   "cell_type": "code",
   "execution_count": 3,
   "metadata": {},
   "outputs": [],
   "source": [
    "preflop2 = np.load('preflop2.npy')\n",
    "preflop3 = np.load('preflop3.npy')\n",
    "flop2 = np.load('flop2.npy')\n",
    "flop3 = np.load('flop3.npy')\n",
    "turn2 = np.load('turn2.npy')\n",
    "turn3 = np.load('turn3.npy')\n",
    "river2 = np.load('river2.npy')\n",
    "river3 = np.load('river3.npy')"
   ]
  },
  {
   "cell_type": "code",
   "execution_count": 4,
   "metadata": {},
   "outputs": [
    {
     "name": "stdout",
     "output_type": "stream",
     "text": [
      "total =  55676\n",
      "preflop3 :     30650 --- 55 %\n",
      "flop3 :     12165 --- 21 %\n",
      "turn3 :     7682 --- 13 %\n",
      "river3 :     5179 --- 9 %\n"
     ]
    }
   ],
   "source": [
    "total_mains = len(preflop3) + len(flop3) + len(turn3) + len(river3)\n",
    "print(\"total = \", total_mains)\n",
    "print(\"preflop3 :    \", len(preflop3),\"---\", int(100*len(preflop3)/total_mains), \"%\")\n",
    "print(\"flop3 :    \",len(flop3),\"---\", int(100*len(flop3)/total_mains), \"%\")\n",
    "print(\"turn3 :    \", len(turn3),\"---\", int(100*len(turn3)/total_mains), \"%\")\n",
    "print(\"river3 :    \",len(river3),\"---\", int(100*len(river3)/total_mains), \"%\")"
   ]
  },
  {
   "cell_type": "code",
   "execution_count": 19,
   "metadata": {},
   "outputs": [
    {
     "name": "stdout",
     "output_type": "stream",
     "text": [
      "14401\n",
      "8391\n",
      "7858\n",
      "0\n"
     ]
    }
   ],
   "source": [
    "list_fold =  np.where(preflop3[:,12] == 0)[0]\n",
    "list_call=  np.where(preflop3[:,12] == 1)[0]\n",
    "list_raise=  np.where(preflop3[:,12] == 2)[0]\n",
    "list_allin=  np.where(preflop3[:,12] == 3)[0]\n",
    "\n",
    "\n",
    "print(len(list_fold))\n",
    "print(len(list_call))\n",
    "print(len(list_raise))\n",
    "print(len(list_allin))\n"
   ]
  },
  {
   "cell_type": "markdown",
   "metadata": {},
   "source": [
    "Fusion des tableaux : l'objectif est de diviser en 2 cas : 2 et 3 joueurs\n",
    "Pour marquer la phase de jeu on utilise 4 variables binaires (1 0 0 0) pour le preflop par exemple"
   ]
  },
  {
   "cell_type": "code",
   "execution_count": null,
   "metadata": {},
   "outputs": [],
   "source": [
    "add_preflop3 = np.repeat([[1,0,0,0]], len(preflop3), axis=0)\n",
    "add_flop3 = np.repeat([[0,1,0,0]], len(flop3), axis=0)\n",
    "add_turn3 = np.repeat([[0,0,1,0]], len(turn3), axis=0)\n",
    "add_river3 = np.repeat([[0,0,0,1]], len(river3), axis=0)\n",
    "\n",
    "add_preflop2 = np.repeat([[1,0,0,0]], len(preflop2), axis=0)\n",
    "add_flop2 = np.repeat([[0,1,0,0]], len(flop2), axis=0)\n",
    "add_turn2 = np.repeat([[0,0,1,0]], len(turn2), axis=0)\n",
    "add_river2 = np.repeat([[0,0,0,1]], len(river2), axis=0)\n",
    "\n",
    "\n",
    "\n",
    "preflop3_reworked = np.concatenate((add_preflop3, preflop3), axis=1)\n",
    "flop3_reworked = np.concatenate((add_flop3, flop3), axis=1)\n",
    "turn3_reworked = np.concatenate((add_turn3, turn3), axis=1)\n",
    "river3_reworked = np.concatenate((add_river3, river3), axis=1)\n",
    "\n",
    "preflop2_reworked = np.concatenate((add_preflop2, preflop2), axis=1)\n",
    "flop2_reworked = np.concatenate((add_flop2, flop2), axis=1)\n",
    "turn2_reworked = np.concatenate((add_turn2, turn2), axis=1)\n",
    "river2_reworked = np.concatenate((add_river2, river2), axis=1)\n",
    "\n",
    "\n",
    "mains_3J = np.concatenate((preflop3_reworked, flop3_reworked, turn3_reworked, river3_reworked), axis=0)\n",
    "mains_2J = np.concatenate((preflop2_reworked, flop2_reworked, turn2_reworked, river2_reworked), axis=0)\n",
    "\n",
    "\n"
   ]
  },
  {
   "cell_type": "code",
   "execution_count": null,
   "metadata": {},
   "outputs": [],
   "source": [
    "np.save(\"mains3J.npy\", mains_3J)\n",
    "np.save(\"mains2J.npy\", mains_2J)\n",
    "\n",
    "\n",
    "print(mains_3J.shape)\n",
    "print(mains_2J.shape)"
   ]
  }
 ],
 "metadata": {
  "kernelspec": {
   "display_name": "Python 3",
   "language": "python",
   "name": "python3"
  },
  "language_info": {
   "codemirror_mode": {
    "name": "ipython",
    "version": 3
   },
   "file_extension": ".py",
   "mimetype": "text/x-python",
   "name": "python",
   "nbconvert_exporter": "python",
   "pygments_lexer": "ipython3",
   "version": "3.7.1"
  }
 },
 "nbformat": 4,
 "nbformat_minor": 2
}

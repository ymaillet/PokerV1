{
 "cells": [
  {
   "cell_type": "markdown",
   "metadata": {},
   "source": [
    "Rappel du format des données : <br>\n",
    "mains_3J = [preflop, flop, turn, river, proba, button, small, bigblind,BB, my_stack, stack_J2, stack_J3, my_bet, bet_J2, bet_J3, pot, decision, decision_value]<br>"
   ]
  },
  {
   "cell_type": "markdown",
   "metadata": {},
   "source": [
    "## Récupération des mains à partir des fichiers"
   ]
  },
  {
   "cell_type": "code",
   "execution_count": 1,
   "metadata": {},
   "outputs": [],
   "source": [
    "import numpy as np\n",
    "import torch\n",
    "import torch.utils.data\n",
    "from sklearn.model_selection import train_test_split\n",
    "from sklearn.preprocessing import StandardScaler\n",
    "import torch.nn as nn\n",
    "import torch.nn.functional as F\n",
    "import torch.optim as optim\n",
    "\n",
    "\n",
    "BATCH_SIZE = 1024\n"
   ]
  },
  {
   "cell_type": "code",
   "execution_count": 16,
   "metadata": {},
   "outputs": [],
   "source": [
    "mains_3J = np.load('mains3J.npy')"
   ]
  },
  {
   "cell_type": "code",
   "execution_count": 17,
   "metadata": {},
   "outputs": [],
   "source": [
    "#creation d'un mask pour detecter les all in ( > 4)\n",
    "list_allin_3J = np.where(mains_3J[:,17] > 4)[0]\n",
    "\n",
    "# On supprimer les all-ins : ils seront gérés par un tableau de psuh or fold\n",
    "mains_3J = np.delete(mains_3J, list_allin_3J, 0)"
   ]
  },
  {
   "cell_type": "markdown",
   "metadata": {},
   "source": [
    "##  Séparation des 2 classes de raise"
   ]
  },
  {
   "cell_type": "code",
   "execution_count": 18,
   "metadata": {},
   "outputs": [],
   "source": [
    "list_raise_3J = np.where(np.logical_and(mains_3J[:,17] > 1, mains_3J[:,17] <= 4 ))[0]\n",
    "\n",
    "\n",
    "mains_3J_onlyraise = mains_3J[list_raise_3J]\n",
    "test_raise_inf_egal2 = np.where(np.logical_and(mains_3J_onlyraise[:,17] > 1,mains_3J_onlyraise[:,17] <= 2.8))[0]\n",
    "test_raise2_4 = np.where(np.logical_and(mains_3J_onlyraise[:,17] > 2.8, mains_3J_onlyraise[:,17] <= 4))[0]\n",
    "\n",
    "mains_3J_onlyraise[test_raise_inf_egal2, 17] = 0  # raise *2.5 \n",
    "mains_3J_onlyraise[test_raise2_4, 17] = 1    # raise *3.5 "
   ]
  },
  {
   "cell_type": "markdown",
   "metadata": {},
   "source": [
    "## Séparation des données"
   ]
  },
  {
   "cell_type": "code",
   "execution_count": 19,
   "metadata": {},
   "outputs": [],
   "source": [
    "nb_features = mains_3J_onlyraise.shape[1]\n",
    "mains_3J_onlyraise_X = mains_3J_onlyraise[:,:(nb_features-2)]\n",
    "mains_3J_onlyraise_Y = mains_3J_onlyraise[:, nb_features-1].squeeze()\n",
    "\n",
    "nb0 = np.where(mains_3J_onlyraise_Y[:] == 0)[0]\n",
    "nb1 = np.where(mains_3J_onlyraise_Y[:] == 1)[0]\n",
    "\n",
    "scaler = StandardScaler()\n",
    "scaler.fit(mains_3J_onlyraise_X[:,[4,8,9,10,11,12,13,14,15]])\n",
    "\n",
    "mains_3J_onlyraise_X[:,[4,8,9,10,11,12,13,14,15]] = scaler.transform(mains_3J_onlyraise_X[:,[4,8,9,10,11,12,13,14,15]])\n",
    "\n",
    "mains_3J_onlyraise_X_train, mains_3J_onlyraise_X_val, mains_3J_onlyraise_Y_train,mains_3J_onlyraise_Y_val = train_test_split(\n",
    "    mains_3J_onlyraise_X, mains_3J_onlyraise_Y, test_size=0.001, stratify=mains_3J_onlyraise_Y)\n"
   ]
  },
  {
   "cell_type": "code",
   "execution_count": 20,
   "metadata": {},
   "outputs": [],
   "source": [
    "np.savez('mean_var_3J_raise.npz', mean=scaler.mean_, var=scaler.var_)"
   ]
  },
  {
   "cell_type": "markdown",
   "metadata": {},
   "source": [
    "## Datasets et dataloaders"
   ]
  },
  {
   "cell_type": "code",
   "execution_count": 21,
   "metadata": {},
   "outputs": [],
   "source": [
    "class MainsDataset():\n",
    "    def __init__(self, X, Y):\n",
    "        self.hands= torch.from_numpy(X).type(torch.cuda.DoubleTensor)\n",
    "        self.labels= torch.from_numpy(Y).type(torch.cuda.LongTensor)\n",
    "        \n",
    "    def __getitem__(self, index):\n",
    "        hand =  self.hands[index]\n",
    "        label =  self.labels[index]\n",
    "        return (hand, label)\n",
    "\n",
    "    def __len__(self):\n",
    "        count = len(self.hands)\n",
    "        return count "
   ]
  },
  {
   "cell_type": "code",
   "execution_count": 22,
   "metadata": {},
   "outputs": [],
   "source": [
    "train_mains_3J_onlyraise = MainsDataset(mains_3J_onlyraise_X_train, mains_3J_onlyraise_Y_train)\n",
    "train_mains_3J_onlyraise_loader = torch.utils.data.DataLoader(train_mains_3J_onlyraise, batch_size=BATCH_SIZE, shuffle=True)\n",
    "\n",
    "val_mains_3J_onlyraise = MainsDataset(mains_3J_onlyraise_X_val, mains_3J_onlyraise_Y_val)\n",
    "val_mains_3J_onlyraise_loader = torch.utils.data.DataLoader(val_mains_3J_onlyraise, batch_size=BATCH_SIZE, shuffle=True)\n"
   ]
  },
  {
   "cell_type": "markdown",
   "metadata": {},
   "source": [
    "## Construction du réseau de neurones"
   ]
  },
  {
   "cell_type": "code",
   "execution_count": 23,
   "metadata": {},
   "outputs": [
    {
     "name": "stdout",
     "output_type": "stream",
     "text": [
      "NN_3J_onlyraise(\n",
      "  (input): Linear(in_features=16, out_features=100, bias=True)\n",
      "  (hidden): Linear(in_features=100, out_features=100, bias=True)\n",
      "  (final): Linear(in_features=100, out_features=2, bias=True)\n",
      ")\n"
     ]
    },
    {
     "data": {
      "text/plain": [
       "NN_3J_onlyraise(\n",
       "  (input): Linear(in_features=16, out_features=100, bias=True)\n",
       "  (hidden): Linear(in_features=100, out_features=100, bias=True)\n",
       "  (final): Linear(in_features=100, out_features=2, bias=True)\n",
       ")"
      ]
     },
     "execution_count": 23,
     "metadata": {},
     "output_type": "execute_result"
    }
   ],
   "source": [
    "class NN_3J_onlyraise(nn.Module):\n",
    "\n",
    "    def __init__(self):\n",
    "        super(NN_3J_onlyraise, self).__init__()\n",
    "        self.largeur = 100\n",
    "        self.input = nn.Linear(16, self.largeur)\n",
    "        self.hidden = nn.Linear(self.largeur, self.largeur)\n",
    "        self.final = nn.Linear(self.largeur, 2)\n",
    "\n",
    "\n",
    "    def forward(self, x):\n",
    "        x = F.relu(self.input(x))\n",
    "        x = F.relu(self.hidden(x))\n",
    "        x = self.final(x)\n",
    "        return x\n",
    "\n",
    "NN_3J_onlyraise = NN_3J_onlyraise()\n",
    "\n",
    "device = torch.device(\"cuda:0\" if torch.cuda.is_available() else \"cpu\")\n",
    "NN_3J_onlyraise.to(device).type(torch.cuda.DoubleTensor)"
   ]
  },
  {
   "cell_type": "markdown",
   "metadata": {},
   "source": [
    "## Entrainement du réseau "
   ]
  },
  {
   "cell_type": "code",
   "execution_count": 24,
   "metadata": {},
   "outputs": [
    {
     "name": "stdout",
     "output_type": "stream",
     "text": [
      "lr = 0.100  |  1 loss: 6363.039\n",
      "lr = 0.100  |  2 loss: 5625.752\n",
      "lr = 0.100  |  3 loss: 5487.351\n",
      "lr = 0.100  |  4 loss: 5396.971\n",
      "lr = 0.100  |  5 loss: 5338.491\n",
      "lr = 0.100  |  6 loss: 5047.561\n",
      "lr = 0.100  |  7 loss: 4956.926\n",
      "lr = 0.100  |  8 loss: 4863.602\n",
      "lr = 0.100  |  9 loss: 4695.759\n",
      "lr = 0.100  |  10 loss: 4598.933\n",
      "lr = 0.100  |  11 loss: 4423.952\n",
      "lr = 0.100  |  12 loss: 4351.579\n",
      "lr = 0.100  |  13 loss: 4305.692\n",
      "lr = 0.100  |  14 loss: 4196.855\n",
      "lr = 0.100  |  15 loss: 4188.475\n",
      "lr = 0.100  |  16 loss: 4109.818\n",
      "lr = 0.100  |  17 loss: 4014.130\n",
      "lr = 0.100  |  18 loss: 3947.567\n",
      "lr = 0.100  |  19 loss: 3859.680\n",
      "lr = 0.100  |  20 loss: 3905.049\n",
      "lr = 0.100  |  21 loss: 3768.160\n",
      "lr = 0.100  |  22 loss: 3791.171\n",
      "lr = 0.100  |  23 loss: 3657.313\n",
      "lr = 0.100  |  24 loss: 3661.256\n",
      "lr = 0.100  |  25 loss: 3619.030\n",
      "lr = 0.100  |  26 loss: 3529.148\n",
      "lr = 0.100  |  27 loss: 3488.400\n",
      "lr = 0.100  |  28 loss: 3456.890\n",
      "lr = 0.100  |  29 loss: 3405.080\n",
      "lr = 0.100  |  30 loss: 3443.198\n",
      "lr = 0.080  |  1 loss: 3437.827\n",
      "lr = 0.080  |  2 loss: 3372.070\n",
      "lr = 0.080  |  3 loss: 3371.445\n",
      "lr = 0.080  |  4 loss: 3427.218\n",
      "lr = 0.080  |  5 loss: 3412.357\n",
      "lr = 0.080  |  6 loss: 3286.705\n",
      "lr = 0.080  |  7 loss: 3256.027\n",
      "lr = 0.080  |  8 loss: 3300.517\n",
      "lr = 0.080  |  9 loss: 3269.759\n",
      "lr = 0.080  |  10 loss: 3279.265\n",
      "lr = 0.080  |  11 loss: 3188.821\n",
      "lr = 0.080  |  12 loss: 3262.246\n",
      "lr = 0.080  |  13 loss: 3184.809\n",
      "lr = 0.080  |  14 loss: 3127.193\n",
      "lr = 0.080  |  15 loss: 3190.675\n",
      "lr = 0.080  |  16 loss: 3193.473\n",
      "lr = 0.080  |  17 loss: 3177.186\n",
      "lr = 0.080  |  18 loss: 3164.412\n",
      "lr = 0.080  |  19 loss: 3109.304\n",
      "lr = 0.080  |  20 loss: 3137.715\n",
      "lr = 0.080  |  21 loss: 3143.212\n",
      "lr = 0.080  |  22 loss: 3082.241\n",
      "lr = 0.080  |  23 loss: 3113.194\n",
      "lr = 0.080  |  24 loss: 3073.631\n",
      "lr = 0.080  |  25 loss: 3140.138\n",
      "lr = 0.080  |  26 loss: 3065.319\n",
      "lr = 0.080  |  27 loss: 3120.776\n",
      "lr = 0.080  |  28 loss: 3127.095\n",
      "lr = 0.080  |  29 loss: 3025.887\n",
      "lr = 0.080  |  30 loss: 3095.255\n",
      "lr = 0.060  |  1 loss: 3104.535\n",
      "lr = 0.060  |  2 loss: 3015.522\n",
      "lr = 0.060  |  3 loss: 3154.381\n",
      "lr = 0.060  |  4 loss: 3064.648\n",
      "lr = 0.060  |  5 loss: 3041.380\n",
      "lr = 0.060  |  6 loss: 3049.336\n",
      "lr = 0.060  |  7 loss: 3157.686\n",
      "lr = 0.060  |  8 loss: 3044.224\n",
      "lr = 0.060  |  9 loss: 3136.281\n",
      "lr = 0.060  |  10 loss: 3014.003\n",
      "lr = 0.060  |  11 loss: 3020.430\n",
      "lr = 0.060  |  12 loss: 3055.057\n",
      "lr = 0.060  |  13 loss: 3047.004\n",
      "lr = 0.060  |  14 loss: 2996.051\n",
      "lr = 0.060  |  15 loss: 2984.035\n",
      "lr = 0.060  |  16 loss: 2977.653\n",
      "lr = 0.060  |  17 loss: 3078.343\n",
      "lr = 0.060  |  18 loss: 3016.252\n",
      "lr = 0.060  |  19 loss: 3019.291\n",
      "lr = 0.060  |  20 loss: 3113.029\n",
      "lr = 0.060  |  21 loss: 3030.833\n",
      "lr = 0.060  |  22 loss: 3064.495\n",
      "lr = 0.060  |  23 loss: 3045.664\n",
      "lr = 0.060  |  24 loss: 3104.111\n",
      "lr = 0.060  |  25 loss: 2995.009\n",
      "lr = 0.060  |  26 loss: 3035.908\n",
      "lr = 0.060  |  27 loss: 3070.270\n",
      "lr = 0.060  |  28 loss: 3007.199\n",
      "lr = 0.060  |  29 loss: 3054.060\n",
      "lr = 0.060  |  30 loss: 3006.630\n",
      "lr = 0.040  |  1 loss: 2971.491\n",
      "lr = 0.040  |  2 loss: 3027.360\n",
      "lr = 0.040  |  3 loss: 3012.276\n",
      "lr = 0.040  |  4 loss: 2984.213\n",
      "lr = 0.040  |  5 loss: 2971.272\n",
      "lr = 0.040  |  6 loss: 2992.515\n",
      "lr = 0.040  |  7 loss: 2959.714\n",
      "lr = 0.040  |  8 loss: 2959.245\n",
      "lr = 0.040  |  9 loss: 3046.880\n",
      "lr = 0.040  |  10 loss: 2979.420\n",
      "lr = 0.040  |  11 loss: 3008.034\n",
      "lr = 0.040  |  12 loss: 3008.840\n",
      "lr = 0.040  |  13 loss: 2984.194\n",
      "lr = 0.040  |  14 loss: 3005.070\n",
      "lr = 0.040  |  15 loss: 3049.438\n",
      "lr = 0.040  |  16 loss: 2965.553\n",
      "lr = 0.040  |  17 loss: 2992.985\n",
      "lr = 0.040  |  18 loss: 2995.197\n",
      "lr = 0.040  |  19 loss: 2982.227\n",
      "lr = 0.040  |  20 loss: 2900.630\n",
      "lr = 0.040  |  21 loss: 2912.451\n",
      "lr = 0.040  |  22 loss: 2949.412\n",
      "lr = 0.040  |  23 loss: 2894.528\n",
      "lr = 0.040  |  24 loss: 2898.722\n",
      "lr = 0.040  |  25 loss: 2920.139\n",
      "lr = 0.040  |  26 loss: 2959.859\n",
      "lr = 0.040  |  27 loss: 2984.220\n",
      "lr = 0.040  |  28 loss: 2911.804\n",
      "lr = 0.040  |  29 loss: 2941.230\n",
      "lr = 0.040  |  30 loss: 2944.616\n",
      "lr = 0.020  |  1 loss: 2915.221\n",
      "lr = 0.020  |  2 loss: 2934.504\n",
      "lr = 0.020  |  3 loss: 3030.015\n",
      "lr = 0.020  |  4 loss: 2970.845\n",
      "lr = 0.020  |  5 loss: 2932.064\n",
      "lr = 0.020  |  6 loss: 2908.132\n",
      "lr = 0.020  |  7 loss: 2939.254\n",
      "lr = 0.020  |  8 loss: 2949.297\n",
      "lr = 0.020  |  9 loss: 2967.252\n",
      "lr = 0.020  |  10 loss: 2910.399\n",
      "lr = 0.020  |  11 loss: 2999.284\n",
      "lr = 0.020  |  12 loss: 2910.712\n",
      "lr = 0.020  |  13 loss: 2961.266\n",
      "lr = 0.020  |  14 loss: 2957.905\n",
      "lr = 0.020  |  15 loss: 2903.934\n",
      "lr = 0.020  |  16 loss: 3061.493\n",
      "lr = 0.020  |  17 loss: 2906.072\n",
      "lr = 0.020  |  18 loss: 2932.296\n",
      "lr = 0.020  |  19 loss: 2977.804\n",
      "lr = 0.020  |  20 loss: 2969.104\n",
      "lr = 0.020  |  21 loss: 2920.391\n",
      "lr = 0.020  |  22 loss: 2964.620\n",
      "lr = 0.020  |  23 loss: 2958.771\n",
      "lr = 0.020  |  24 loss: 2965.227\n",
      "lr = 0.020  |  25 loss: 2966.435\n",
      "lr = 0.020  |  26 loss: 2920.948\n",
      "lr = 0.020  |  27 loss: 2970.690\n",
      "lr = 0.020  |  28 loss: 2873.210\n",
      "lr = 0.020  |  29 loss: 3014.240\n",
      "lr = 0.020  |  30 loss: 2960.723\n",
      "lr = 0.010  |  1 loss: 2925.606\n",
      "lr = 0.010  |  2 loss: 2975.040\n",
      "lr = 0.010  |  3 loss: 2977.855\n",
      "lr = 0.010  |  4 loss: 2960.905\n",
      "lr = 0.010  |  5 loss: 2884.785\n",
      "lr = 0.010  |  6 loss: 2907.231\n",
      "lr = 0.010  |  7 loss: 2892.176\n",
      "lr = 0.010  |  8 loss: 2925.355\n",
      "lr = 0.010  |  9 loss: 2857.534\n",
      "lr = 0.010  |  10 loss: 2900.998\n",
      "lr = 0.010  |  11 loss: 2994.451\n",
      "lr = 0.010  |  12 loss: 2879.857\n",
      "lr = 0.010  |  13 loss: 2935.567\n",
      "lr = 0.010  |  14 loss: 2836.468\n",
      "lr = 0.010  |  15 loss: 2848.872\n",
      "lr = 0.010  |  16 loss: 2921.881\n",
      "lr = 0.010  |  17 loss: 2951.691\n",
      "lr = 0.010  |  18 loss: 2913.767\n",
      "lr = 0.010  |  19 loss: 2987.941\n",
      "lr = 0.010  |  20 loss: 2978.262\n",
      "lr = 0.010  |  21 loss: 2843.641\n",
      "lr = 0.010  |  22 loss: 2855.282\n",
      "lr = 0.010  |  23 loss: 2905.314\n",
      "lr = 0.010  |  24 loss: 2929.016\n",
      "lr = 0.010  |  25 loss: 2890.971\n",
      "lr = 0.010  |  26 loss: 2911.832\n",
      "lr = 0.010  |  27 loss: 3001.304\n",
      "lr = 0.010  |  28 loss: 2928.163\n",
      "lr = 0.010  |  29 loss: 2886.876\n",
      "lr = 0.010  |  30 loss: 2951.359\n",
      "lr = 0.005  |  1 loss: 2970.572\n",
      "lr = 0.005  |  2 loss: 2966.464\n",
      "lr = 0.005  |  3 loss: 2977.571\n",
      "lr = 0.005  |  4 loss: 2959.502\n",
      "lr = 0.005  |  5 loss: 2860.891\n",
      "lr = 0.005  |  6 loss: 2868.891\n",
      "lr = 0.005  |  7 loss: 2873.089\n",
      "lr = 0.005  |  8 loss: 2911.684\n",
      "lr = 0.005  |  9 loss: 2933.070\n",
      "lr = 0.005  |  10 loss: 2873.656\n",
      "lr = 0.005  |  11 loss: 2901.772\n",
      "lr = 0.005  |  12 loss: 2928.078\n",
      "lr = 0.005  |  13 loss: 2869.190\n",
      "lr = 0.005  |  14 loss: 2893.264\n",
      "lr = 0.005  |  15 loss: 2914.938\n",
      "lr = 0.005  |  16 loss: 2966.201\n",
      "lr = 0.005  |  17 loss: 2944.091\n",
      "lr = 0.005  |  18 loss: 2879.066\n",
      "lr = 0.005  |  19 loss: 2945.025\n",
      "lr = 0.005  |  20 loss: 2988.506\n",
      "lr = 0.005  |  21 loss: 2891.881\n",
      "lr = 0.005  |  22 loss: 2920.680\n",
      "lr = 0.005  |  23 loss: 2946.070\n",
      "lr = 0.005  |  24 loss: 2934.488\n",
      "lr = 0.005  |  25 loss: 2915.622\n",
      "lr = 0.005  |  26 loss: 2875.806\n",
      "lr = 0.005  |  27 loss: 2863.760\n",
      "lr = 0.005  |  28 loss: 2882.680\n",
      "lr = 0.005  |  29 loss: 2926.731\n",
      "lr = 0.005  |  30 loss: 2979.089\n",
      "Finished Training\n"
     ]
    }
   ],
   "source": [
    "\n",
    "criterion = nn.CrossEntropyLoss()\n",
    "\n",
    "lr_tab = [0.1, 0.08, 0.06, 0.04, 0.02, 0.01, 0.005]\n",
    "\n",
    "\n",
    "for lr_ in lr_tab:\n",
    "    \n",
    "    optimizer = optim.SGD(NN_3J_onlyraise.parameters(), lr=lr_)\n",
    "    for epoch in range(30):  # loop over the dataset multiple times\n",
    "\n",
    "        running_loss = 0.0\n",
    "        for i, data in enumerate(train_mains_3J_onlyraise_loader, 0):\n",
    "            # get the inputs\n",
    "            inputs, labels = data\n",
    "            inputs, labels = inputs.to(device), labels.to(device)\n",
    "\n",
    "            # zero the parameter gradients\n",
    "            optimizer.zero_grad()\n",
    "\n",
    "            # forward + backward + optimize\n",
    "            outputs = NN_3J_onlyraise(inputs)\n",
    "            loss = criterion(outputs,labels)\n",
    "            loss.backward()\n",
    "            optimizer.step()\n",
    "\n",
    "            # print statistics\n",
    "            running_loss += loss.item()\n",
    "        print('lr = %.3f  |  %d loss: %.3f' %(lr_ ,epoch + 1,running_loss*BATCH_SIZE))\n",
    "\n",
    "print('Finished Training')"
   ]
  },
  {
   "cell_type": "markdown",
   "metadata": {},
   "source": [
    "## Test du réseau"
   ]
  },
  {
   "cell_type": "code",
   "execution_count": 25,
   "metadata": {},
   "outputs": [
    {
     "name": "stdout",
     "output_type": "stream",
     "text": [
      "Accuracy of the network : 87 %\n",
      "Accuracy for each class :\n",
      "2.5 : 92 %\n",
      "3.5 : 73 %\n"
     ]
    }
   ],
   "source": [
    "correct = 0\n",
    "total = 0\n",
    "\n",
    "\n",
    "classes = ['2.5', '3.5']\n",
    "class_correct = [0, 0]\n",
    "class_total = [1, 1]\n",
    "\n",
    "\n",
    "with torch.no_grad():\n",
    "    for data in train_mains_3J_onlyraise_loader:\n",
    "        inputs, labels = data\n",
    "        inputs, labels = inputs.to(device), labels.to(device)\n",
    "        outputs = NN_3J_onlyraise(inputs)\n",
    "        _, predicted = torch.max(outputs.data, 1)\n",
    "        total += labels.size(0)\n",
    "        correct += (predicted == labels).sum().item()\n",
    "        c = (predicted == labels).squeeze()\n",
    "        for i in range(len(labels)):\n",
    "            label = labels[i]\n",
    "            class_correct[label] += c[i].item()\n",
    "            class_total[label] += 1\n",
    "\n",
    "print('Accuracy of the network : %d %%' % (100 * correct / total))\n",
    "\n",
    "print('Accuracy for each class :')\n",
    "\n",
    "for i in range(2):\n",
    "    print('%s : %d %%' % (classes[i], 100 * class_correct[i] / class_total[i]))\n"
   ]
  },
  {
   "cell_type": "markdown",
   "metadata": {},
   "source": [
    "## Sauvegarde du réseau "
   ]
  },
  {
   "cell_type": "code",
   "execution_count": 42,
   "metadata": {},
   "outputs": [],
   "source": [
    "model_ft = NN_3J_onlyraise.state_dict()\n",
    "filename = 'model_theo_3J_onlyraise.pth'\n",
    "torch.save(model_ft, filename)"
   ]
  }
 ],
 "metadata": {
  "kernelspec": {
   "display_name": "Python 3",
   "language": "python",
   "name": "python3"
  },
  "language_info": {
   "codemirror_mode": {
    "name": "ipython",
    "version": 3
   },
   "file_extension": ".py",
   "mimetype": "text/x-python",
   "name": "python",
   "nbconvert_exporter": "python",
   "pygments_lexer": "ipython3",
   "version": "3.7.1"
  }
 },
 "nbformat": 4,
 "nbformat_minor": 2
}

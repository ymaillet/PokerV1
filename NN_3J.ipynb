{
 "cells": [
  {
   "cell_type": "markdown",
   "metadata": {},
   "source": [
    "Rappel du format des données : <br>\n",
    "mains_3J = [preflop, flop, turn, river, proba, button, small, bigblind,BB, my_stack, stack_J2, stack_J3, my_bet, bet_J2, bet_J3, pot, decision, decision_value]<br>"
   ]
  },
  {
   "cell_type": "markdown",
   "metadata": {},
   "source": [
    "## Récupération des mains à partir des fichiers"
   ]
  },
  {
   "cell_type": "code",
   "execution_count": 1,
   "metadata": {},
   "outputs": [],
   "source": [
    "import numpy as np\n",
    "import torch\n",
    "\n",
    "import torch.utils.data\n",
    "from sklearn.model_selection import train_test_split\n",
    "from sklearn.preprocessing import StandardScaler\n",
    "import torch.nn as nn\n",
    "import torch.nn.functional as F\n",
    "import torch.optim as optim\n",
    "\n",
    "\n",
    "BATCH_SIZE = 1024"
   ]
  },
  {
   "cell_type": "code",
   "execution_count": 2,
   "metadata": {},
   "outputs": [],
   "source": [
    "mains_3J = np.load('mains3J.npy')"
   ]
  },
  {
   "cell_type": "code",
   "execution_count": 3,
   "metadata": {},
   "outputs": [],
   "source": [
    "#creation d'un mask pour detecter les all in ( > 4)\n",
    "list_allin_3J = np.where(mains_3J[:,17] > 4)[0]\n",
    "\n",
    "# On supprimer les all-ins : ils seront gérés par un tableau de psuh or fold\n",
    "mains_3J = np.delete(mains_3J, list_allin_3J, 0)"
   ]
  },
  {
   "cell_type": "markdown",
   "metadata": {},
   "source": [
    "## Séparation des données"
   ]
  },
  {
   "cell_type": "code",
   "execution_count": 4,
   "metadata": {},
   "outputs": [],
   "source": [
    "nb_features = mains_3J.shape[1]\n",
    "mains_3J_X = mains_3J[:,:(nb_features-2)]\n",
    "mains_3J_Y = mains_3J[:, (nb_features-2):(nb_features-1)].squeeze()\n",
    "\n",
    "scaler = StandardScaler()\n",
    "scaler.fit(mains_3J_X[:,[4,8,9,10,11,12,13,14,15]])\n",
    "\n",
    "mains_3J_X[:,[4,8,9,10,11,12,13,14,15]] = scaler.transform(mains_3J_X[:,[4,8,9,10,11,12,13,14,15]])\n",
    "\n",
    "mains_3J_X_train, mains_3J_X_val, mains_3J_Y_train, mains_3J_Y_val = train_test_split(mains_3J_X, mains_3J_Y,\n",
    "                                                                     test_size=0.01, stratify=mains_3J_Y)\n"
   ]
  },
  {
   "cell_type": "code",
   "execution_count": 5,
   "metadata": {},
   "outputs": [],
   "source": [
    "np.savez('mean_var_3J.npz', mean=scaler.mean_, var=scaler.var_)"
   ]
  },
  {
   "cell_type": "markdown",
   "metadata": {},
   "source": [
    "## Datasets et dataloaders"
   ]
  },
  {
   "cell_type": "code",
   "execution_count": 40,
   "metadata": {},
   "outputs": [],
   "source": [
    "class MainsDataset():\n",
    "    def __init__(self, X, Y):\n",
    "        self.hands= torch.from_numpy(X).type(torch.cuda.DoubleTensor)\n",
    "        self.labels= torch.from_numpy(Y).type(torch.cuda.LongTensor)\n",
    "        \n",
    "    def __getitem__(self, index):\n",
    "        hand =  self.hands[index]\n",
    "        label =  self.labels[index]\n",
    "        return (hand, label)\n",
    "\n",
    "    def __len__(self):\n",
    "        count = len(self.hands)\n",
    "        return count "
   ]
  },
  {
   "cell_type": "code",
   "execution_count": 41,
   "metadata": {},
   "outputs": [],
   "source": [
    "train_mains_3J = MainsDataset(mains_3J_X_train, mains_3J_Y_train)\n",
    "train_mains_3J_loader = torch.utils.data.DataLoader(train_mains_3J, batch_size=BATCH_SIZE, shuffle=True)\n",
    "\n",
    "val_mains_3J = MainsDataset(mains_3J_X_val, mains_3J_Y_val)\n",
    "val_mains_3J_loader = torch.utils.data.DataLoader(val_mains_3J, batch_size=BATCH_SIZE, shuffle=True)\n"
   ]
  },
  {
   "cell_type": "markdown",
   "metadata": {},
   "source": [
    "## Construction du réseau de neurones"
   ]
  },
  {
   "cell_type": "code",
   "execution_count": 42,
   "metadata": {},
   "outputs": [
    {
     "name": "stdout",
     "output_type": "stream",
     "text": [
      "NN_3J(\n",
      "  (input): Linear(in_features=16, out_features=500, bias=True)\n",
      "  (hidden): Linear(in_features=500, out_features=500, bias=True)\n",
      "  (final): Linear(in_features=500, out_features=3, bias=True)\n",
      ")\n"
     ]
    },
    {
     "data": {
      "text/plain": [
       "NN_3J(\n",
       "  (input): Linear(in_features=16, out_features=500, bias=True)\n",
       "  (hidden): Linear(in_features=500, out_features=500, bias=True)\n",
       "  (final): Linear(in_features=500, out_features=3, bias=True)\n",
       ")"
      ]
     },
     "execution_count": 42,
     "metadata": {},
     "output_type": "execute_result"
    }
   ],
   "source": [
    "class NN_3J(nn.Module):\n",
    "\n",
    "    def __init__(self):\n",
    "        super(NN_3J, self).__init__()\n",
    "        self.largeur = 500\n",
    "                \n",
    "        self.input = nn.Linear(16, self.largeur)\n",
    "        self.hidden = nn.Linear(self.largeur, self.largeur)\n",
    "        self.final = nn.Linear(self.largeur, 3)\n",
    "\n",
    "\n",
    "    def forward(self, x):\n",
    "\n",
    "        x = F.relu(self.input(x))\n",
    "        x = F.relu(self.hidden(x))\n",
    "        x = F.relu(self.hidden(x))\n",
    "        x = F.relu(self.hidden(x))\n",
    "        x = self.final(x)\n",
    "        return x\n",
    "\n",
    "NN_3J = NN_3J()\n",
    "print(NN_3J)\n",
    "\n",
    "device = torch.device(\"cuda:0\" if torch.cuda.is_available() else \"cpu\")\n",
    "NN_3J.to(device).type(torch.cuda.DoubleTensor)"
   ]
  },
  {
   "cell_type": "markdown",
   "metadata": {},
   "source": [
    "## Entrainement du réseau "
   ]
  },
  {
   "cell_type": "code",
   "execution_count": 43,
   "metadata": {},
   "outputs": [
    {
     "name": "stdout",
     "output_type": "stream",
     "text": [
      "lr = 0.100  |  1 loss: 53907.515\n",
      "lr = 0.100  |  2 loss: 43802.865\n",
      "lr = 0.100  |  3 loss: 37196.978\n",
      "lr = 0.100  |  4 loss: 33695.614\n",
      "lr = 0.100  |  5 loss: 31862.292\n",
      "lr = 0.100  |  6 loss: 30482.122\n",
      "lr = 0.100  |  7 loss: 29672.813\n",
      "lr = 0.100  |  8 loss: 28460.208\n",
      "lr = 0.100  |  9 loss: 27841.349\n",
      "lr = 0.100  |  10 loss: 27123.731\n",
      "lr = 0.100  |  11 loss: 27343.572\n",
      "lr = 0.100  |  12 loss: 26184.523\n",
      "lr = 0.100  |  13 loss: 25837.330\n",
      "lr = 0.100  |  14 loss: 25678.197\n",
      "lr = 0.100  |  15 loss: 25501.937\n",
      "lr = 0.100  |  16 loss: 25345.974\n",
      "lr = 0.100  |  17 loss: 24986.195\n",
      "lr = 0.100  |  18 loss: 24811.637\n",
      "lr = 0.100  |  19 loss: 24633.412\n",
      "lr = 0.100  |  20 loss: 24531.259\n",
      "lr = 0.100  |  21 loss: 24295.266\n",
      "lr = 0.100  |  22 loss: 24068.456\n",
      "lr = 0.100  |  23 loss: 24214.412\n",
      "lr = 0.100  |  24 loss: 23944.265\n",
      "lr = 0.100  |  25 loss: 23789.117\n",
      "lr = 0.080  |  1 loss: 23349.915\n",
      "lr = 0.080  |  2 loss: 23318.170\n",
      "lr = 0.080  |  3 loss: 23273.535\n",
      "lr = 0.080  |  4 loss: 23043.007\n",
      "lr = 0.080  |  5 loss: 23253.451\n",
      "lr = 0.080  |  6 loss: 23066.636\n",
      "lr = 0.080  |  7 loss: 23038.194\n",
      "lr = 0.080  |  8 loss: 22904.457\n",
      "lr = 0.080  |  9 loss: 22964.524\n",
      "lr = 0.080  |  10 loss: 22787.529\n",
      "lr = 0.080  |  11 loss: 22780.458\n",
      "lr = 0.080  |  12 loss: 22835.001\n",
      "lr = 0.080  |  13 loss: 22703.515\n",
      "lr = 0.080  |  14 loss: 22578.135\n",
      "lr = 0.080  |  15 loss: 22542.362\n",
      "lr = 0.080  |  16 loss: 22603.440\n",
      "lr = 0.080  |  17 loss: 22471.649\n",
      "lr = 0.080  |  18 loss: 22346.182\n",
      "lr = 0.080  |  19 loss: 22400.628\n",
      "lr = 0.080  |  20 loss: 22396.777\n",
      "lr = 0.080  |  21 loss: 22235.026\n",
      "lr = 0.080  |  22 loss: 22345.506\n",
      "lr = 0.080  |  23 loss: 22179.737\n",
      "lr = 0.080  |  24 loss: 22248.225\n",
      "lr = 0.080  |  25 loss: 22115.136\n",
      "lr = 0.060  |  1 loss: 21823.257\n",
      "lr = 0.060  |  2 loss: 21813.126\n",
      "lr = 0.060  |  3 loss: 21804.139\n",
      "lr = 0.060  |  4 loss: 21693.475\n",
      "lr = 0.060  |  5 loss: 21712.692\n",
      "lr = 0.060  |  6 loss: 21674.482\n",
      "lr = 0.060  |  7 loss: 21704.664\n",
      "lr = 0.060  |  8 loss: 21649.872\n",
      "lr = 0.060  |  9 loss: 21832.029\n",
      "lr = 0.060  |  10 loss: 21729.215\n",
      "lr = 0.060  |  11 loss: 21645.172\n",
      "lr = 0.060  |  12 loss: 21674.679\n",
      "lr = 0.060  |  13 loss: 21619.395\n",
      "lr = 0.060  |  14 loss: 21629.419\n",
      "lr = 0.060  |  15 loss: 21498.173\n",
      "lr = 0.060  |  16 loss: 21581.260\n",
      "lr = 0.060  |  17 loss: 21596.192\n",
      "lr = 0.060  |  18 loss: 21425.923\n",
      "lr = 0.060  |  19 loss: 21582.865\n",
      "lr = 0.060  |  20 loss: 21444.613\n",
      "lr = 0.060  |  21 loss: 21570.637\n",
      "lr = 0.060  |  22 loss: 21410.279\n",
      "lr = 0.060  |  23 loss: 21441.759\n",
      "lr = 0.060  |  24 loss: 21374.892\n",
      "lr = 0.060  |  25 loss: 21359.441\n",
      "lr = 0.040  |  1 loss: 21146.857\n",
      "lr = 0.040  |  2 loss: 21108.728\n",
      "lr = 0.040  |  3 loss: 21099.065\n",
      "lr = 0.040  |  4 loss: 21131.688\n",
      "lr = 0.040  |  5 loss: 21085.899\n",
      "lr = 0.040  |  6 loss: 21096.076\n",
      "lr = 0.040  |  7 loss: 21051.902\n",
      "lr = 0.040  |  8 loss: 21102.923\n",
      "lr = 0.040  |  9 loss: 21050.215\n",
      "lr = 0.040  |  10 loss: 21023.919\n",
      "lr = 0.040  |  11 loss: 21068.890\n",
      "lr = 0.040  |  12 loss: 21017.449\n",
      "lr = 0.040  |  13 loss: 20980.386\n",
      "lr = 0.040  |  14 loss: 20975.948\n",
      "lr = 0.040  |  15 loss: 20992.638\n",
      "lr = 0.040  |  16 loss: 20949.498\n",
      "lr = 0.040  |  17 loss: 20940.403\n",
      "lr = 0.040  |  18 loss: 20930.169\n",
      "lr = 0.040  |  19 loss: 20890.566\n",
      "lr = 0.040  |  20 loss: 20904.918\n",
      "lr = 0.040  |  21 loss: 20867.490\n",
      "lr = 0.040  |  22 loss: 20882.117\n",
      "lr = 0.040  |  23 loss: 20894.857\n",
      "lr = 0.040  |  24 loss: 20913.188\n",
      "lr = 0.040  |  25 loss: 20897.733\n",
      "lr = 0.020  |  1 loss: 20670.765\n",
      "lr = 0.020  |  2 loss: 20669.193\n",
      "lr = 0.020  |  3 loss: 20652.912\n",
      "lr = 0.020  |  4 loss: 20648.173\n",
      "lr = 0.020  |  5 loss: 20633.100\n",
      "lr = 0.020  |  6 loss: 20641.854\n",
      "lr = 0.020  |  7 loss: 20618.250\n",
      "lr = 0.020  |  8 loss: 20622.712\n",
      "lr = 0.020  |  9 loss: 20610.293\n",
      "lr = 0.020  |  10 loss: 20605.738\n",
      "lr = 0.020  |  11 loss: 20585.575\n",
      "lr = 0.020  |  12 loss: 20585.253\n",
      "lr = 0.020  |  13 loss: 20590.428\n",
      "lr = 0.020  |  14 loss: 20573.801\n",
      "lr = 0.020  |  15 loss: 20558.930\n",
      "lr = 0.020  |  16 loss: 20579.379\n",
      "lr = 0.020  |  17 loss: 20548.969\n",
      "lr = 0.020  |  18 loss: 20534.048\n",
      "lr = 0.020  |  19 loss: 20554.564\n",
      "lr = 0.020  |  20 loss: 20545.154\n",
      "lr = 0.020  |  21 loss: 20528.962\n",
      "lr = 0.020  |  22 loss: 20531.487\n",
      "lr = 0.020  |  23 loss: 20519.039\n",
      "lr = 0.020  |  24 loss: 20489.697\n",
      "lr = 0.020  |  25 loss: 20492.029\n",
      "lr = 0.010  |  1 loss: 20421.432\n",
      "lr = 0.010  |  2 loss: 20398.138\n",
      "lr = 0.010  |  3 loss: 20410.828\n",
      "lr = 0.010  |  4 loss: 20405.320\n",
      "lr = 0.010  |  5 loss: 20399.514\n",
      "lr = 0.010  |  6 loss: 20394.275\n",
      "lr = 0.010  |  7 loss: 20416.001\n",
      "lr = 0.010  |  8 loss: 20385.990\n",
      "lr = 0.010  |  9 loss: 20381.068\n",
      "lr = 0.010  |  10 loss: 20404.825\n",
      "lr = 0.010  |  11 loss: 20366.402\n",
      "lr = 0.010  |  12 loss: 20371.216\n",
      "lr = 0.010  |  13 loss: 20377.430\n",
      "lr = 0.010  |  14 loss: 20354.199\n",
      "lr = 0.010  |  15 loss: 20365.886\n",
      "lr = 0.010  |  16 loss: 20362.931\n",
      "lr = 0.010  |  17 loss: 20350.086\n",
      "lr = 0.010  |  18 loss: 20348.832\n",
      "lr = 0.010  |  19 loss: 20351.849\n",
      "lr = 0.010  |  20 loss: 20337.066\n",
      "lr = 0.010  |  21 loss: 20346.501\n",
      "lr = 0.010  |  22 loss: 20338.422\n",
      "lr = 0.010  |  23 loss: 20322.084\n",
      "lr = 0.010  |  24 loss: 20326.951\n",
      "lr = 0.010  |  25 loss: 20314.055\n",
      "Finished Training\n"
     ]
    }
   ],
   "source": [
    "\n",
    "criterion = nn.CrossEntropyLoss()\n",
    "\n",
    "lr_tab = [0.1, 0.08, 0.06, 0.04, 0.02, 0.01]\n",
    "\n",
    "\n",
    "for lr_ in lr_tab:\n",
    "    \n",
    "    optimizer = optim.SGD(NN_3J.parameters(), lr=lr_)\n",
    "    for epoch in range(25):  # loop over the dataset multiple times\n",
    "\n",
    "        running_loss = 0.0\n",
    "        for i, data in enumerate(train_mains_3J_loader, 0):\n",
    "            # get the inputs\n",
    "            inputs, labels = data\n",
    "            inputs, labels = inputs.to(device), labels.to(device)\n",
    "\n",
    "            # zero the parameter gradients\n",
    "            optimizer.zero_grad()\n",
    "\n",
    "            # forward + backward + optimize\n",
    "            outputs = NN_3J(inputs)\n",
    "            loss = criterion(outputs,labels)\n",
    "            loss.backward()\n",
    "            optimizer.step()\n",
    "\n",
    "            # print statistics\n",
    "            running_loss += loss.item()\n",
    "        print('lr = %.3f  |  %d loss: %.3f' %(lr_ ,epoch + 1,running_loss*BATCH_SIZE))\n",
    "\n",
    "print('Finished Training')"
   ]
  },
  {
   "cell_type": "markdown",
   "metadata": {},
   "source": [
    "## Test du réseau"
   ]
  },
  {
   "cell_type": "code",
   "execution_count": 45,
   "metadata": {},
   "outputs": [
    {
     "name": "stdout",
     "output_type": "stream",
     "text": [
      "Accuracy of the network : 83 %\n",
      "Accuracy for each class :\n",
      "Fold : 93 %\n",
      "Call : 86 %\n",
      "Raise : 57 %\n"
     ]
    }
   ],
   "source": [
    "correct = 0\n",
    "total = 0\n",
    "\n",
    "\n",
    "classes = ['Fold', 'Call', 'Raise']\n",
    "class_correct = [0, 0, 0]\n",
    "class_total = [1, 1, 1]\n",
    "\n",
    "\n",
    "with torch.no_grad():\n",
    "    for data in train_mains_3J_loader:\n",
    "        inputs, labels = data\n",
    "        inputs, labels = inputs.to(device), labels.to(device)\n",
    "        outputs = NN_3J(inputs)\n",
    "        _, predicted = torch.max(outputs.data, 1)\n",
    "        total += labels.size(0)\n",
    "        correct += (predicted == labels).sum().item()\n",
    "        c = (predicted == labels).squeeze()\n",
    "        for i in range(len(labels)):\n",
    "            label = labels[i]\n",
    "            class_correct[label] += c[i].item()\n",
    "            class_total[label] += 1\n",
    "\n",
    "print('Accuracy of the network : %d %%' % (100 * correct / total))\n",
    "\n",
    "print('Accuracy for each class :')\n",
    "\n",
    "for i in range(3):\n",
    "    print('%s : %d %%' % (classes[i], 100 * class_correct[i] / class_total[i]))"
   ]
  },
  {
   "cell_type": "markdown",
   "metadata": {},
   "source": [
    "## Sauvegarde du réseau "
   ]
  },
  {
   "cell_type": "code",
   "execution_count": 47,
   "metadata": {},
   "outputs": [],
   "source": [
    "model_ft = NN_3J.state_dict()\n",
    "filename = 'model_theo_3J.pth'\n",
    "torch.save(model_ft, filename)"
   ]
  }
 ],
 "metadata": {
  "kernelspec": {
   "display_name": "Python 3",
   "language": "python",
   "name": "python3"
  },
  "language_info": {
   "codemirror_mode": {
    "name": "ipython",
    "version": 3
   },
   "file_extension": ".py",
   "mimetype": "text/x-python",
   "name": "python",
   "nbconvert_exporter": "python",
   "pygments_lexer": "ipython3",
   "version": "3.7.1"
  }
 },
 "nbformat": 4,
 "nbformat_minor": 2
}

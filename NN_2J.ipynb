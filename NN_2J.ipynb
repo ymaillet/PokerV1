{
 "cells": [
  {
   "cell_type": "markdown",
   "metadata": {},
   "source": [
    "Rappel du format des données : <br>\n",
    "mains_2J = [preflop, flop, turn, river, proba, small, bigblind,BB, my_stack, stack_J2, my_bet, bet_J2, pot, decision, decision_value]"
   ]
  },
  {
   "cell_type": "markdown",
   "metadata": {},
   "source": [
    "## Récupération des mains à partir des fichiers"
   ]
  },
  {
   "cell_type": "code",
   "execution_count": 1,
   "metadata": {},
   "outputs": [],
   "source": [
    "import numpy as np\n",
    "import torch\n",
    "\n",
    "import torch.utils.data\n",
    "from sklearn.model_selection import train_test_split\n",
    "from sklearn.preprocessing import StandardScaler\n",
    "import torch.nn as nn\n",
    "import torch.nn.functional as F\n",
    "import torch.optim as optim\n",
    "\n",
    "\n",
    "BATCH_SIZE = 1024"
   ]
  },
  {
   "cell_type": "code",
   "execution_count": 2,
   "metadata": {},
   "outputs": [],
   "source": [
    "mains_2J = np.load('mains2J.npy')"
   ]
  },
  {
   "cell_type": "code",
   "execution_count": 3,
   "metadata": {},
   "outputs": [],
   "source": [
    "#creation d'un mask pour detecter les all in ( > 4)\n",
    "list_allin_2J = np.where(mains_2J[:,14] > 4)[0]\n",
    "\n",
    "# On supprimer les all-ins : ils seront gérés par un tableau de psuh or fold\n",
    "mains_2J = np.delete(mains_2J, list_allin_2J, 0)"
   ]
  },
  {
   "cell_type": "markdown",
   "metadata": {},
   "source": [
    "## Séparation des données"
   ]
  },
  {
   "cell_type": "code",
   "execution_count": 4,
   "metadata": {},
   "outputs": [],
   "source": [
    "nb_features = mains_2J.shape[1]\n",
    "mains_2J_X = mains_2J[:,:(nb_features-2)]\n",
    "mains_2J_Y = mains_2J[:, (nb_features-2):(nb_features-1)].squeeze()\n",
    "\n",
    "scaler = StandardScaler()\n",
    "scaler.fit(mains_2J_X[:,[4,7,8,9,10,11,12]])\n",
    "\n",
    "mains_2J_X[:,[4,7,8,9,10,11,12]] = scaler.transform(mains_2J_X[:,[4,7,8,9,10,11,12]])\n",
    "\n",
    "mains_2J_X_train, mains_2J_X_val, mains_2J_Y_train, mains_2J_Y_val = train_test_split(mains_2J_X, mains_2J_Y,\n",
    "                                                                     test_size=0.01, stratify=mains_2J_Y)"
   ]
  },
  {
   "cell_type": "code",
   "execution_count": 5,
   "metadata": {},
   "outputs": [],
   "source": [
    "np.savez('mean_var_2J.npz', mean=scaler.mean_, var=scaler.var_)"
   ]
  },
  {
   "cell_type": "markdown",
   "metadata": {},
   "source": [
    "## Datasets et dataloaders"
   ]
  },
  {
   "cell_type": "code",
   "execution_count": 127,
   "metadata": {},
   "outputs": [],
   "source": [
    "class MainsDataset():\n",
    "    def __init__(self, X, Y):\n",
    "        self.hands= torch.from_numpy(X).type(torch.cuda.DoubleTensor)\n",
    "        self.labels= torch.from_numpy(Y).type(torch.cuda.LongTensor)\n",
    "        \n",
    "    def __getitem__(self, index):\n",
    "        hand =  self.hands[index]\n",
    "        label =  self.labels[index]\n",
    "        return (hand, label)\n",
    "\n",
    "    def __len__(self):\n",
    "        count = len(self.hands)\n",
    "        return count "
   ]
  },
  {
   "cell_type": "code",
   "execution_count": 128,
   "metadata": {},
   "outputs": [],
   "source": [
    "train_mains_2J = MainsDataset(mains_2J_X_train, mains_2J_Y_train)\n",
    "train_mains_2J_loader = torch.utils.data.DataLoader(train_mains_2J, batch_size=BATCH_SIZE, shuffle=True)\n",
    "\n",
    "val_mains_2J = MainsDataset(mains_2J_X_val, mains_2J_Y_val)\n",
    "val_mains_2J_loader = torch.utils.data.DataLoader(val_mains_2J, batch_size=BATCH_SIZE, shuffle=True)\n"
   ]
  },
  {
   "cell_type": "markdown",
   "metadata": {},
   "source": [
    "## Construction du réseau de neurones"
   ]
  },
  {
   "cell_type": "code",
   "execution_count": 134,
   "metadata": {},
   "outputs": [
    {
     "name": "stdout",
     "output_type": "stream",
     "text": [
      "NN_2J(\n",
      "  (input): Linear(in_features=13, out_features=150, bias=True)\n",
      "  (hidden): Linear(in_features=150, out_features=150, bias=True)\n",
      "  (final): Linear(in_features=150, out_features=3, bias=True)\n",
      ")\n"
     ]
    },
    {
     "data": {
      "text/plain": [
       "NN_2J(\n",
       "  (input): Linear(in_features=13, out_features=150, bias=True)\n",
       "  (hidden): Linear(in_features=150, out_features=150, bias=True)\n",
       "  (final): Linear(in_features=150, out_features=3, bias=True)\n",
       ")"
      ]
     },
     "execution_count": 134,
     "metadata": {},
     "output_type": "execute_result"
    }
   ],
   "source": [
    "class NN_2J(nn.Module):\n",
    "\n",
    "    def __init__(self):\n",
    "        super(NN_2J, self).__init__()\n",
    "        self.largeur = 150\n",
    "        self.input = nn.Linear(13, self.largeur)\n",
    "        self.hidden = nn.Linear(self.largeur, self.largeur)\n",
    "        self.final = nn.Linear(self.largeur, 3)\n",
    "\n",
    "\n",
    "    def forward(self, x):\n",
    "        x = F.relu(self.input(x))\n",
    "        x = F.relu(self.hidden(x))\n",
    "        x = F.relu(self.hidden(x))\n",
    "        x = F.relu(self.hidden(x))\n",
    "        x = F.relu(self.hidden(x))\n",
    "        x = F.relu(self.hidden(x))\n",
    "        x = self.final(x)\n",
    "        return x\n",
    "\n",
    "NN_2J = NN_2J()\n",
    "print(NN_2J)\n",
    "\n",
    "device = torch.device(\"cuda:0\" if torch.cuda.is_available() else \"cpu\")\n",
    "NN_2J.to(device).type(torch.cuda.DoubleTensor)"
   ]
  },
  {
   "cell_type": "markdown",
   "metadata": {},
   "source": [
    "## Entrainement du réseau "
   ]
  },
  {
   "cell_type": "code",
   "execution_count": 147,
   "metadata": {},
   "outputs": [
    {
     "name": "stdout",
     "output_type": "stream",
     "text": [
      "lr = 0.001  |  1 loss: 26863.539\n",
      "lr = 0.001  |  2 loss: 26769.946\n",
      "lr = 0.001  |  3 loss: 26758.515\n",
      "lr = 0.001  |  4 loss: 26758.988\n",
      "lr = 0.001  |  5 loss: 26745.926\n",
      "lr = 0.001  |  6 loss: 26771.577\n",
      "lr = 0.001  |  7 loss: 26771.821\n",
      "lr = 0.001  |  8 loss: 26758.763\n",
      "lr = 0.001  |  9 loss: 26749.989\n",
      "lr = 0.001  |  10 loss: 26758.299\n",
      "lr = 0.001  |  11 loss: 26756.427\n",
      "lr = 0.001  |  12 loss: 26745.518\n",
      "lr = 0.001  |  13 loss: 26753.161\n",
      "lr = 0.001  |  14 loss: 26765.019\n",
      "lr = 0.001  |  15 loss: 26737.696\n",
      "lr = 0.001  |  16 loss: 26743.278\n",
      "lr = 0.001  |  17 loss: 26768.237\n",
      "lr = 0.001  |  18 loss: 26738.709\n",
      "lr = 0.001  |  19 loss: 26764.233\n",
      "lr = 0.001  |  20 loss: 26749.925\n",
      "lr = 0.001  |  21 loss: 26732.131\n",
      "lr = 0.001  |  22 loss: 26757.474\n",
      "lr = 0.001  |  23 loss: 26729.024\n",
      "lr = 0.001  |  24 loss: 26746.797\n",
      "lr = 0.001  |  25 loss: 26737.329\n",
      "lr = 0.001  |  26 loss: 26724.107\n",
      "lr = 0.001  |  27 loss: 26741.487\n",
      "lr = 0.001  |  28 loss: 26740.044\n",
      "lr = 0.001  |  29 loss: 26738.797\n",
      "lr = 0.001  |  30 loss: 26757.047\n",
      "Finished Training\n"
     ]
    }
   ],
   "source": [
    "\n",
    "criterion = nn.CrossEntropyLoss()\n",
    "\n",
    "lr_tab = [0.1, 0.08, 0.06, 0.04, 0.02, 0.01]\n",
    "# lr_tab = [0.001]\n",
    "\n",
    "for lr_ in lr_tab:\n",
    "    \n",
    "    optimizer = optim.SGD(NN_2J.parameters(), lr=lr_)\n",
    "    for epoch in range(30):  # loop over the dataset multiple times\n",
    "\n",
    "        running_loss = 0.0\n",
    "        for i, data in enumerate(train_mains_2J_loader, 0):\n",
    "            # get the inputs\n",
    "            inputs, labels = data\n",
    "            inputs, labels = inputs.to(device), labels.to(device)\n",
    "\n",
    "            # zero the parameter gradients\n",
    "            optimizer.zero_grad()\n",
    "\n",
    "            # forward + backward + optimize\n",
    "            outputs = NN_2J(inputs)\n",
    "            loss = criterion(outputs,labels)\n",
    "            loss.backward()\n",
    "            optimizer.step()\n",
    "\n",
    "            # print statistics\n",
    "            running_loss += loss.item()\n",
    "        print('lr = %.3f  |  %d loss: %.3f' %(lr_ ,epoch + 1,running_loss*BATCH_SIZE))\n",
    "\n",
    "print('Finished Training')"
   ]
  },
  {
   "cell_type": "markdown",
   "metadata": {},
   "source": [
    "## Test du réseau"
   ]
  },
  {
   "cell_type": "code",
   "execution_count": 146,
   "metadata": {},
   "outputs": [
    {
     "name": "stdout",
     "output_type": "stream",
     "text": [
      "Accuracy of the network : 74 %\n",
      "Accuracy for each class :\n",
      "Fold : 75 %\n",
      "Call : 81 %\n",
      "Raise : 53 %\n"
     ]
    }
   ],
   "source": [
    "correct = 0\n",
    "total = 0\n",
    "\n",
    "\n",
    "classes = ['Fold', 'Call', 'Raise']\n",
    "class_correct = [0, 0, 0]\n",
    "class_total = [1, 1, 1]\n",
    "\n",
    "\n",
    "with torch.no_grad():\n",
    "    for data in val_mains_2J_loader:\n",
    "        inputs, labels = data\n",
    "        inputs, labels = inputs.to(device), labels.to(device)\n",
    "        outputs = NN_2J(inputs)\n",
    "        _, predicted = torch.max(outputs.data, 1)\n",
    "        total += labels.size(0)\n",
    "        correct += (predicted == labels).sum().item()\n",
    "        c = (predicted == labels).squeeze()\n",
    "        for i in range(len(labels)):\n",
    "            label = labels[i]\n",
    "            class_correct[label] += c[i].item()\n",
    "            class_total[label] += 1\n",
    "\n",
    "print('Accuracy of the network : %d %%' % (100 * correct / total))\n",
    "\n",
    "print('Accuracy for each class :')\n",
    "\n",
    "for i in range(3):\n",
    "    print('%s : %d %%' % (classes[i], 100 * class_correct[i] / class_total[i]))\n",
    "\n",
    "    \n",
    "# 5 hiddens de 150 :   80% |  85/85/63"
   ]
  },
  {
   "cell_type": "markdown",
   "metadata": {},
   "source": [
    "## Sauvegarde du réseau "
   ]
  },
  {
   "cell_type": "code",
   "execution_count": 148,
   "metadata": {},
   "outputs": [],
   "source": [
    "model_ft = NN_2J.state_dict()\n",
    "filename = 'model_theo_2J.pth'\n",
    "torch.save(model_ft, filename)"
   ]
  }
 ],
 "metadata": {
  "kernelspec": {
   "display_name": "Python 3",
   "language": "python",
   "name": "python3"
  },
  "language_info": {
   "codemirror_mode": {
    "name": "ipython",
    "version": 3
   },
   "file_extension": ".py",
   "mimetype": "text/x-python",
   "name": "python",
   "nbconvert_exporter": "python",
   "pygments_lexer": "ipython3",
   "version": "3.7.1"
  }
 },
 "nbformat": 4,
 "nbformat_minor": 2
}
